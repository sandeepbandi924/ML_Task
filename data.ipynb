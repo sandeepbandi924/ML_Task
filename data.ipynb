{
 "cells": [
  {
   "cell_type": "code",
   "execution_count": 18,
   "metadata": {},
   "outputs": [
    {
     "name": "stdout",
     "output_type": "stream",
     "text": [
      "Synthetic dataset created.\n"
     ]
    }
   ],
   "source": [
    "import pandas as pd\n",
    "import numpy as np\n",
    "from datetime import datetime, timedelta\n",
    "import random\n",
    "\n",
    "# Set random seed for generating random number\n",
    "random.seed(42)\n",
    "np.random.seed(42)\n",
    "\n",
    "# Parameters\n",
    "num_users = 1000\n",
    "num_posts = 10000\n",
    "num_interactions = 50000\n",
    "\n",
    "# Generate User IDs and Post IDs\n",
    "user_ids = [f'user_{i}' for i in range(num_users)] \n",
    "\n",
    "# Generate Post IDs and timestamps\n",
    "post_ids = [f'post_{i}' for i in range(num_posts)] \n",
    "post_timestamps = [datetime.now() - timedelta(days=random.randint(0, 365)) for _ in range(num_posts)]\n",
    "\n",
    "# Generate synthetic post content\n",
    "post_contents = ['This is a post about ' + random.choice(['sports', 'politics', 'technology', 'entertainment', 'science']) for _ in range(num_posts)]\n",
    "\n",
    "# Create the post DataFrame\n",
    "posts_df = pd.DataFrame({\n",
    "    'Post_ID': post_ids,\n",
    "    'Post_Timestamp': post_timestamps,\n",
    "    'Post_Content': post_contents\n",
    "})\n",
    "\n",
    "# Generate synthetic interactions\n",
    "interaction_types = ['like', 'comment', 'share', 'seen']\n",
    "interaction_data = []\n",
    "\n",
    "for user_id in user_ids:\n",
    "    num_interactions = random.randint(1, 20)\n",
    "    for _ in range(num_interactions):\n",
    "        post_id = random.choice(post_ids)\n",
    "        interaction_type = random.choice(interaction_types)\n",
    "        interaction_timestamp = datetime.now() - timedelta(days=random.randint(0, 365))\n",
    "        interaction_data.append((user_id, post_id, interaction_type, interaction_timestamp))\n",
    "\n",
    "# Create the interaction DataFrame\n",
    "interactions_df = pd.DataFrame(interaction_data, columns=['User_ID', 'Post_ID', 'Interaction_Type', 'Interaction_Timestamp'])\n",
    "\n",
    "# Merge DataFrames to get a complete dataset\n",
    "dataset = pd.merge(interactions_df, posts_df, on='Post_ID')\n",
    "\n",
    "# Save the dataset to a CSV file for later use\n",
    "dataset.to_csv('synthetic_social_media_dataset.csv', index=False)\n",
    "\n",
    "print(\"Synthetic dataset created.\")\n"
   ]
  }
 ],
 "metadata": {
  "kernelspec": {
   "display_name": "Python 3",
   "language": "python",
   "name": "python3"
  },
  "language_info": {
   "codemirror_mode": {
    "name": "ipython",
    "version": 3
   },
   "file_extension": ".py",
   "mimetype": "text/x-python",
   "name": "python",
   "nbconvert_exporter": "python",
   "pygments_lexer": "ipython3",
   "version": "3.8.0"
  }
 },
 "nbformat": 4,
 "nbformat_minor": 2
}
